{
  "cells": [
    {
      "cell_type": "markdown",
      "metadata": {
        "id": "view-in-github",
        "colab_type": "text"
      },
      "source": [
        "<a href=\"https://colab.research.google.com/github/timeraylee/linebot_openai/blob/master/python1_notebook_stu.ipynb\" target=\"_parent\"><img src=\"https://colab.research.google.com/assets/colab-badge.svg\" alt=\"Open In Colab\"/></a>"
      ]
    },
    {
      "cell_type": "markdown",
      "metadata": {
        "id": "7zGxLyFIsIu4"
      },
      "source": [
        "# **Python Lecture 01**\n",
        "\n",
        "#### 鄭博宇 Benjamin Cheng\n",
        "#### 國立臺灣大學資訊管理學系\n",
        "\n",
        "\n",
        "## **Agenda**\n",
        "- 第一行程式：”Hello world!”\n",
        "- 變數是什麼？\n",
        "- If - else 判斷\n",
        "- 串列 List\n",
        "- 迴圈 Loop\n",
        "- 字串 String\n",
        "\n",
        "\n",
        "## **課程進行**\n",
        "- .ipynb 請先準備好\n",
        "- 開啟方式：Google Colab / Jupyter Notebook\n",
        "- 課程講義、隨堂練習、歡迎先往下做題目\n",
        "\n",
        "\n",
        "## **講師介紹**\n",
        "\n",
        "Benjamin 鄭博宇\n",
        "\n",
        "- 資管雙經濟 大二\n",
        "- IG: @benjami8_24n\n",
        "\n"
      ]
    },
    {
      "cell_type": "markdown",
      "metadata": {
        "id": "MysI67i2sIu6"
      },
      "source": [
        "---"
      ]
    },
    {
      "cell_type": "markdown",
      "metadata": {
        "id": "dpUZUHIzsIu6"
      },
      "source": [
        "\n",
        "# **第一行程式**\n",
        "\n",
        "### 今天的第一行程式\n",
        "\n",
        "請在介面上打上 <span class=\"courier\">print(\"Hello world!\")</span>，並且按下 **執行按鈕**。  \n",
        "\n",
        "\n",
        "你看到了什麼？\n",
        "\n"
      ]
    },
    {
      "cell_type": "code",
      "execution_count": null,
      "metadata": {
        "id": "3PqxOlrPsIu7"
      },
      "outputs": [],
      "source": [
        "# 打上 print(\"Hello world!\")"
      ]
    },
    {
      "cell_type": "markdown",
      "metadata": {
        "id": "uF8shSYisIu7"
      },
      "source": [
        "\n",
        "當學習一個程式語言時，第一件事情是練習 **輸出方法** 。在 Python 中，我們使用 <span class=\"courier\">print()</span> 函數來列印不同的 **變數** 。\n",
        "\n",
        "引號（\" \"）代表內部包含的 **變數** 是 **字串（string）**，我們將在稍後介紹到！\n",
        "\n",
        "####  **小試身手**\n",
        "\n",
        "艾蜜莉在必修的程式設計課覺得很無聊，於是決定來搞個小花樣：  \n",
        "她希望每次執行程式碼時，能夠印出 Emily is the smartest student in IM !   \n",
        "請修改剛剛的程式碼，幫助艾蜜莉完成這個目標吧！"
      ]
    },
    {
      "cell_type": "code",
      "execution_count": 30,
      "metadata": {
        "id": "r3gA2dVnsIu7",
        "colab": {
          "base_uri": "https://localhost:8080/"
        },
        "outputId": "092182a1-c26f-47d3-a3ff-30072443c0d9"
      },
      "outputs": [
        {
          "output_type": "stream",
          "name": "stdout",
          "text": [
            "Evily is the smrtest student in IM\n"
          ]
        }
      ],
      "source": [
        "# 小試身手\n",
        "print (\"Evily is the smrtest student in IM\")"
      ]
    },
    {
      "cell_type": "markdown",
      "metadata": {
        "id": "HGq1rGY_sIu7"
      },
      "source": [
        "---"
      ]
    },
    {
      "cell_type": "markdown",
      "metadata": {
        "id": "g6HBnibnsIu8"
      },
      "source": [
        "# **變數是什麼？**\n",
        "\n",
        "\n",
        "\n",
        "### 變數 Variable\n",
        "\n",
        "我們可以將 **變數** 理解為 **裝內容的容器**。  \n",
        "\n",
        "不同的容器能裝不同類型的資料，這就是**資料型態**。  \n",
        "<br>\n",
        "\n",
        "\n",
        "\n",
        "一些在 Python 中常見到的**資料型態 (type)** 包括：\n",
        "1. 整數（int）：負整數、0、正整數  \n",
        "2. 浮點數（float）：帶有小數點的數值  \n",
        "3. 字串（string）：使用 “引號” 所包住的字元組合，用來表達單字或句子  \n",
        "4. 布林值（bool）：True / False，我們可以使用 1 表達 True、0 表達 False\n",
        "\n",
        "在 Python 中，我們在處理變數時，我們是透過 **物件 (object)** 的 **名稱** 來訪問儲存在電腦中的內容。因此，一個變數的 **內容值** 可以不斷被讀取、修改，但是變數的 **名稱** 不能改變。\n",
        "\n",
        "\n",
        "\n",
        "### 變數 Variable - 創立變數\n",
        "\n",
        "我們可以將 **變數** 理解為 **裝內容的容器**。  \n",
        "\n",
        "當我們要新增一個變數時，我們使用 **賦值運算子（ = ）** 來初始化一個變數。\n"
      ]
    },
    {
      "cell_type": "code",
      "execution_count": null,
      "metadata": {
        "id": "kFWS7mlWsIu8",
        "outputId": "80f9950b-9078-4cff-8f20-1aa26ddb368c"
      },
      "outputs": [
        {
          "name": "stdout",
          "output_type": "stream",
          "text": [
            "15\n",
            "<class 'int'>\n"
          ]
        }
      ],
      "source": [
        "new_variable = 15   # 整數 int 型態\n",
        "print(new_variable)\n",
        "print(type(new_variable))"
      ]
    },
    {
      "cell_type": "markdown",
      "metadata": {
        "id": "ydAWZLRMsIu8"
      },
      "source": [
        "\n",
        "之後，我們也能使用 **賦值運算子（ = ）** 來修改變數的內容。\n",
        "\n"
      ]
    },
    {
      "cell_type": "code",
      "execution_count": null,
      "metadata": {
        "id": "OKiCn4zSsIu8",
        "outputId": "cb9f7f93-63f8-4549-abde-eab19c96309e"
      },
      "outputs": [
        {
          "name": "stdout",
          "output_type": "stream",
          "text": [
            "20\n"
          ]
        }
      ],
      "source": [
        "new_variable = 20  # 修改內容\n",
        "print(new_variable)"
      ]
    },
    {
      "cell_type": "markdown",
      "metadata": {
        "id": "rcUmrha7sIu9"
      },
      "source": [
        "\n",
        "#### **想法**\n",
        "\n",
        "Python 會根據我們所賦予的值，自動將 **變數** 調整至對應的 **資料型態** 喔！\n",
        "\n",
        "\n",
        "#### **試試看**\n",
        "\n",
        "<span class=\"courier\">type()</span> 函數會告訴我們變數的資料型態。\n",
        "\n",
        "請自行摸索看看，當我們給定不同類型的變數時，會印出什麼結果呢？\n",
        "\n",
        "\n",
        "\n",
        "\n",
        "\n",
        "### 變數 Variable - 創立變數\n",
        "\n",
        "我們可以將 **變數** 理解為 **裝內容的容器** 。\n",
        "\n",
        "有一些 **命名規則** 是需要遵守的！\n",
        "\n",
        "1. 只能包含 字母、數字、底線 ，且不能以數字開頭\n",
        "2. 不能使用 Python 的關鍵字（例如 if、while、True 等）\n",
        "3. 習慣上，變數名稱要盡量讓我們清楚了解 **此變數的用途**\n",
        "\n",
        "\n",
        "\n",
        "#### **注意**\n",
        "\n",
        "變數名稱的大小寫是有差的，因此要特別注意！\n",
        "\n",
        "####  **試試看**\n",
        "\n",
        "如果我們將一個變數的名稱定為  <span class=\"courier\">2024IMcamp</span>，執行後會發生什麼事？\n",
        "\n",
        "\n",
        "\n",
        "\n",
        "### 變數 Variable - 比較運算子\n",
        "\n",
        "```python\n",
        "a = 10  \n",
        "b = 3  \n",
        "print(a == b)  # False  \n",
        "print(a != b)  # True  \n",
        "print(a > b)   # True  \n",
        "print(a < b)   # False  \n",
        "print(a >= b)  # True   \n",
        "print(a <= b)  # False\n",
        "```\n",
        "\n",
        "\n",
        "\n",
        "\n",
        "\n",
        "### 變數 Variable - 算術運算子\n",
        "\n",
        "```python\n",
        "a = 3 + 5     # 8   \n",
        "b = 3 - 5     # -2  \n",
        "c = 3 * 5     # 15  \n",
        "d = 5 / 3     # 1.6667  \n",
        "e = 5 // 3    # 1  \n",
        "f = 5 % 3     # 2   \n",
        "g = 5 ** 3    # 125  \n",
        "```\n",
        "\n",
        "\n",
        "### 變數 Variable - 邏輯運算子\n",
        "\n",
        "```python\n",
        "x = 5 > 3       # True  \n",
        "y = 3 > 5       # False  \n",
        "print(x and y)  # False  \n",
        "print(x or y)   # True  \n",
        "print(not x)    # False  \n",
        "```\n",
        "\n",
        "\n",
        "\n",
        "### 變數 Variable - 更多的...賦值運算子\n",
        "\n",
        "我們能將 **算術運算** 以及 **賦值** 兩個動作合併。\n",
        "\n",
        "\n",
        "```python\n",
        "a = 10  \n",
        "a += 5    # a = a + 5  \n",
        "print(a)  # 15  \n",
        "a *= 2    # a = a * 2  \n",
        "print(a)  # 30  \n",
        "```\n",
        "\n"
      ]
    },
    {
      "cell_type": "markdown",
      "metadata": {
        "id": "ieZ4r-PwsIu9"
      },
      "source": [
        "\n",
        "\n",
        "\n",
        "####  **小試身手**\n",
        "\n",
        "\n",
        "艾蜜莉在放學後，跑到對面的公館商圈購物，總共發現了三樣想買的商品：  \n",
        "\n",
        "**保暖耳罩** 售價 300 元，**滑鼠墊** 售價 500 元，**髮箍** 售價 100 元。艾蜜莉決定三樣商品都各買兩件。\n",
        "\n",
        "買完後，店家開心地提供了 8 折的優惠。請使用前面學過的運算子，幫艾蜜莉算算看，這樣總共會花多少錢？  \n",
        "\n",
        "\n",
        "\n"
      ]
    },
    {
      "cell_type": "code",
      "execution_count": null,
      "metadata": {
        "id": "lvR0GCpLsIu9"
      },
      "outputs": [],
      "source": [
        "# 小試身手\n",
        "x = 300 * 2 * 0.8\n",
        "y = 500 * 2 * 0.8\n",
        "z = 100 * 2 * 0.8\n",
        "print(x + y + z)"
      ]
    },
    {
      "cell_type": "markdown",
      "metadata": {
        "id": "yx__EgOBsIu9"
      },
      "source": [
        "\n",
        "\n",
        "####  **小試身手**\n",
        "\n",
        "艾蜜莉今天遇到了一個謎題，試著協助她找到答案吧！謎題如下：\n",
        "\n",
        "試著幫下列程式中變數 a、b 和 c 都分別填入 True 或 False，使最終輸出的值為 True 吧！\n"
      ]
    },
    {
      "cell_type": "code",
      "execution_count": 31,
      "metadata": {
        "id": "nQ99YhO4sIu-",
        "outputId": "bb5f955e-b81e-4f4e-d9ee-76b177a9237a",
        "colab": {
          "base_uri": "https://localhost:8080/"
        }
      },
      "outputs": [
        {
          "output_type": "stream",
          "name": "stdout",
          "text": [
            "True\n"
          ]
        }
      ],
      "source": [
        "a =  3 > 5\n",
        "b =  2 > 5\n",
        "c =  5 > 3\n",
        "#試著讓程式碼輸出 True 的結果吧！\n",
        "print(((a and b) or (b or c)) and ((not a) and (b == False) ))"
      ]
    },
    {
      "cell_type": "markdown",
      "metadata": {
        "id": "qyqDfLcPsIu-"
      },
      "source": [
        " ---"
      ]
    },
    {
      "cell_type": "markdown",
      "metadata": {
        "id": "r3YFb0RasIu-"
      },
      "source": [
        "\n",
        "# **If - else 判斷**\n",
        "\n",
        "```python\n",
        "if 條件式:\n",
        "\t# 如果條件式為 True 時，執行這一段\n",
        "elif 條件式:\n",
        "\t# 如果不符合更前面的條件，且條件式為 True 時，執行這一段\n",
        "\n",
        "（中間可以放很多個 elif）\n",
        "\n",
        "else:\n",
        "\t# 假設前面都不符合，執行這一段\n",
        "\n",
        "```"
      ]
    },
    {
      "cell_type": "markdown",
      "metadata": {
        "id": "jaiVqOyNsIu-"
      },
      "source": [
        "#### **小試身手**\n",
        "\n",
        "艾蜜莉今天在 Python 課堂中，遇到一個跟生活情境有關的題目：  \n",
        "\n",
        "請幫助她寫一個程式，來判斷一個人的年齡是否符合考駕照的規定（上網查查看，台灣幾歲才能考駕照？），同時，超過 70 歲者，應印出 “高齡駕駛” 。\n",
        "\n",
        "\n",
        "\n",
        "#### **補充**\n",
        "\n",
        "在這個任務中，我們需要使用者 **輸入自訂的內容**，因此會用到 <span class=\"courier\">input()</span> 函數。   \n",
        "\n",
        "這個函數會記錄使用者輸入的內容，預設以 **字串（string）** 儲存，如果是數字內容要記得轉換成 **整數（int）** 型態喔！  \n"
      ]
    },
    {
      "cell_type": "code",
      "execution_count": null,
      "metadata": {
        "id": "TfQpIDOZsIu-",
        "outputId": "a4058513-1afd-4b01-aa8e-0117879c5113"
      },
      "outputs": [
        {
          "name": "stdout",
          "output_type": "stream",
          "text": [
            "\n"
          ]
        }
      ],
      "source": [
        "# input 使用範例\n",
        "a = input(\"請在此輸入內容：\")\n",
        "print(a)"
      ]
    },
    {
      "cell_type": "markdown",
      "metadata": {
        "id": "3_8PvS5asIu_"
      },
      "source": [
        "因此，關於考駕照的年齡判斷問題，應該會如此開頭：  \n"
      ]
    },
    {
      "cell_type": "code",
      "execution_count": 42,
      "metadata": {
        "id": "uZWuSihGsIu_",
        "colab": {
          "base_uri": "https://localhost:8080/"
        },
        "outputId": "14d71724-4d98-4c95-a6e0-e6490d114081"
      },
      "outputs": [
        {
          "output_type": "stream",
          "name": "stdout",
          "text": [
            "請輸入您的年齡：18\n",
            "符合標準\n"
          ]
        }
      ],
      "source": [
        "age = int(input(\"請輸入您的年齡：\"))   # 將輸入的內容從字串轉換為整數\n",
        "if age > 70:\n",
        "  print(\"高齡駕駛\")\n",
        "elif age < 18:\n",
        "  print(\"未達標準\")\n",
        "else :\n",
        "  print(\"符合標準\")\n"
      ]
    },
    {
      "cell_type": "markdown",
      "metadata": {
        "id": "wr05z2lFsIu_"
      },
      "source": [
        "\n",
        "---\n"
      ]
    },
    {
      "cell_type": "markdown",
      "metadata": {
        "id": "-M3-syvcsIu_"
      },
      "source": [
        "\n",
        "# **串列 List**\n",
        "\n",
        "\n",
        "\n",
        "### 串列 List - 動機\n",
        "\n",
        "當我們今天想存 3 個類似的數值時...\n",
        "\n",
        "```python\n",
        "\n",
        "a = 5\n",
        "b = 7\n",
        "c = 6\n",
        "\n",
        "```\n",
        "\n",
        "如果今天變成 50 個？  \n",
        "如果當中有兩個變數要 **交換順序**？  \n",
        "如果我需要從中間 **拿掉一個** ，其他往前遞補？  \n",
        "如果臨時有人從 **中間插入**？  \n",
        "\n",
        "我們需要一個 **系統化的容器**：\n",
        "\n",
        "1. 將一串元素們按照順序擺在一起\n",
        "2. 元素可以各式各樣：整數、字母、字串、布林值\n",
        "3. 有一些設計好的功能，方便我們使用（例如：變換順序、拿掉其中一個、從中間插入...）\n",
        "\n",
        "\n",
        "\n",
        "\n",
        "### 串列 List - 宣告\n",
        "\n",
        "在 Python 中，我們使用 \\[中括號\\] 表達串列\n",
        "\n",
        "創建一個串列可以透過以下兩種方法：\n"
      ]
    },
    {
      "cell_type": "code",
      "source": [],
      "metadata": {
        "id": "jAy2kXbUbaQD"
      },
      "execution_count": null,
      "outputs": []
    },
    {
      "cell_type": "code",
      "execution_count": null,
      "metadata": {
        "id": "POJhzZjfsIu_"
      },
      "outputs": [],
      "source": [
        "new_list = [0, 1, 2, 3, 4]  # 第一種\n",
        "another_list = list()       # 第二種"
      ]
    },
    {
      "cell_type": "markdown",
      "metadata": {
        "id": "nKfN1gOLsIu_"
      },
      "source": [
        "  \n",
        "\n",
        "####  **試試看**\n",
        "\n",
        "艾蜜莉想要幫自己的三次段考成績，用一個 list 來記錄，成績分別是：95、47、68。  \n",
        "\n",
        "請創建一個名為 <span class=\"courier\">score</span> 的串列，將成績儲存起來。\n"
      ]
    },
    {
      "cell_type": "code",
      "execution_count": 44,
      "metadata": {
        "id": "QBLFvzaksIu_",
        "colab": {
          "base_uri": "https://localhost:8080/",
          "height": 181
        },
        "outputId": "69fb99ce-7157-4f2d-f8e6-f24b25575e0a"
      },
      "outputs": [
        {
          "output_type": "error",
          "ename": "TypeError",
          "evalue": "list expected at most 1 argument, got 3",
          "traceback": [
            "\u001b[0;31m---------------------------------------------------------------------------\u001b[0m",
            "\u001b[0;31mTypeError\u001b[0m                                 Traceback (most recent call last)",
            "\u001b[0;32m<ipython-input-44-15cb1e49ac96>\u001b[0m in \u001b[0;36m<cell line: 0>\u001b[0;34m()\u001b[0m\n\u001b[1;32m      1\u001b[0m \u001b[0;31m# 試試看\u001b[0m\u001b[0;34m\u001b[0m\u001b[0;34m\u001b[0m\u001b[0m\n\u001b[0;32m----> 2\u001b[0;31m \u001b[0mlist\u001b[0m \u001b[0;34m(\u001b[0m\u001b[0;36m95\u001b[0m\u001b[0;34m,\u001b[0m\u001b[0;36m47\u001b[0m\u001b[0;34m,\u001b[0m\u001b[0;36m68\u001b[0m\u001b[0;34m)\u001b[0m\u001b[0;34m\u001b[0m\u001b[0;34m\u001b[0m\u001b[0m\n\u001b[0m\u001b[1;32m      3\u001b[0m \u001b[0mscore\u001b[0m\u001b[0;34m(\u001b[0m\u001b[0mlist\u001b[0m\u001b[0;34m)\u001b[0m\u001b[0;34m\u001b[0m\u001b[0;34m\u001b[0m\u001b[0m\n",
            "\u001b[0;31mTypeError\u001b[0m: list expected at most 1 argument, got 3"
          ]
        }
      ],
      "source": [
        "# 試試看\n",
        "list (95,47,68)\n",
        "score(list)"
      ]
    },
    {
      "cell_type": "markdown",
      "metadata": {
        "id": "J4Dy0L0OsIu_"
      },
      "source": [
        "### 串列 List - 取值\n",
        "\n",
        "在 Python 中，我們使用 \\[中括號\\] 表達串列\n",
        "\n",
        "我們想要取得串列中索引值 = i 的內容...\n"
      ]
    },
    {
      "cell_type": "code",
      "execution_count": null,
      "metadata": {
        "id": "HDJtLqRYsIu_",
        "outputId": "7c550b78-e01b-4f96-e2ed-b77fab3966b5"
      },
      "outputs": [
        {
          "name": "stdout",
          "output_type": "stream",
          "text": [
            "[0, 1, 2, 3, 4]\n",
            "2\n"
          ]
        }
      ],
      "source": [
        "print(new_list)\n",
        "print(new_list[2])  #注意！誰被印出了？"
      ]
    },
    {
      "cell_type": "markdown",
      "metadata": {
        "id": "fbGLN3jqsIvA"
      },
      "source": [
        "\n",
        "\n",
        "#### **想法**\n",
        "\n",
        "在程式中，我們從 0 開始計數，\n",
        "所以索引值從 0 開始算。\n",
        "\n",
        "\n",
        "####  **試試看**\n",
        "\n",
        "請幫艾蜜莉印出第二次段考的成績！\n",
        "（提示：第二次段考的索引值是多少？）\n"
      ]
    },
    {
      "cell_type": "code",
      "execution_count": null,
      "metadata": {
        "id": "AnWLPCpssIvA"
      },
      "outputs": [],
      "source": [
        "# 試試看"
      ]
    },
    {
      "cell_type": "markdown",
      "metadata": {
        "id": "tqoKIxW4sIvA"
      },
      "source": [
        "### 串列 List - 索引值專論\n",
        "\n",
        "在程式中，我們從 0 開始計數，所以索引值從 0 開始算。\n",
        "\n",
        "- 一般情況下，[ i ] 表達 **第 i + 1 個** 元素\n",
        "- 從後方開始取值，使用 [ - i ] 表達 **倒數第 i 個** 元素\n",
        "- [ i : j ] 表示 **從 i（包含）到 j（不包含）** 的元素\n",
        "\n",
        "\n",
        "####  **試試看**\n",
        "\n",
        "如果是 [ i :（留白）] 以及 [（留白）: j ] 時，範圍是在哪裡？\n"
      ]
    },
    {
      "cell_type": "code",
      "execution_count": null,
      "metadata": {
        "id": "0jWuEY7_sIvA"
      },
      "outputs": [],
      "source": [
        "# 試試看"
      ]
    },
    {
      "cell_type": "markdown",
      "metadata": {
        "id": "7ux9gJcEsIvA"
      },
      "source": [
        "\n",
        "\n",
        "####  **試試看**\n",
        "\n",
        "當今天變成 [ i : j : k ] 時， k 有什麼意義？\n",
        "\n",
        "\n",
        "\n"
      ]
    },
    {
      "cell_type": "code",
      "execution_count": null,
      "metadata": {
        "id": "D5z7JLuMsIvA"
      },
      "outputs": [],
      "source": [
        "# 試試看"
      ]
    },
    {
      "cell_type": "markdown",
      "metadata": {
        "id": "9bnBsyLHsIvA"
      },
      "source": [
        "\n",
        "### 串列 List - 插入資料\n",
        "\n",
        "從 **尾端** 插入資料：\n",
        "1. <span class=\"courier\">append( element )</span>  —  將另一個 **元素** 加在後面\n",
        "2. <span class=\"courier\">extend( list )</span>   —  將另一個 **串列** 加在後面\n"
      ]
    },
    {
      "cell_type": "code",
      "execution_count": null,
      "metadata": {
        "id": "J7nDiqEisIvA",
        "outputId": "78d3557e-a69d-4ba4-ec9c-a14667fcf4ea"
      },
      "outputs": [
        {
          "name": "stdout",
          "output_type": "stream",
          "text": [
            "['apple', 'banana', 'cherry', 'orange']\n",
            "['apple', 'banana', 'cherry', 'mango', 'pineapple', 'grape']\n"
          ]
        }
      ],
      "source": [
        "# 使用 append\n",
        "fruits = ['apple', 'banana', 'cherry']\n",
        "fruits.append('orange')\n",
        "print(fruits)  # 輸出: ['apple', 'banana', 'cherry', 'orange']\n",
        "\n",
        "# 使用 extend\n",
        "fruits = ['apple', 'banana', 'cherry']\n",
        "more_fruits = ['mango', 'pineapple', 'grape']\n",
        "fruits.extend(more_fruits)\n",
        "print(fruits)  # 輸出: ['apple', 'banana', 'cherry', 'mango', 'pineapple', 'grape']"
      ]
    },
    {
      "cell_type": "markdown",
      "metadata": {
        "id": "KhaNyNh0sIvA"
      },
      "source": [
        "\n",
        "####  **試試看**\n",
        "在 <span class=\"courier\">my_list</span> 的後方加上新的元素 <span class=\"courier\">\"New_element\"</span>。\n"
      ]
    },
    {
      "cell_type": "code",
      "execution_count": null,
      "metadata": {
        "id": "QyPe4rmZsIvA"
      },
      "outputs": [],
      "source": [
        "# 試試看"
      ]
    },
    {
      "cell_type": "markdown",
      "metadata": {
        "id": "BRbBVCgDsIvB"
      },
      "source": [
        "\n",
        "####  **試試看**\n",
        "\n",
        "建立一個新的串列 <span class=\"courier\">another_list</span>，內容物自訂，並且將這個新串列接在原本的 <span class=\"courier\">my_list</span> 後面。\n"
      ]
    },
    {
      "cell_type": "code",
      "execution_count": null,
      "metadata": {
        "id": "J_I9B_MhsIvB"
      },
      "outputs": [],
      "source": [
        "# 試試看"
      ]
    },
    {
      "cell_type": "markdown",
      "metadata": {
        "id": "xUyPIFHisIvB"
      },
      "source": [
        "\n",
        "\n",
        "#### **注意**\n",
        "\n",
        "如果使用 <span class=\"courier\">append()</span> 插入一個 **串列** 會發生什麼事？\n",
        "\n",
        "我們將會擁有一個新元素，該元素是一個串列。\n",
        "\n",
        "<span class=\"courier\">[1, 2, 3, [ 4, 5, 6], 87, 0]</span>\n",
        "\n",
        "\n",
        "\n",
        "\n",
        "### 串列 List - 插入資料\n",
        "\n",
        "從 **中間** 插入資料：\n",
        "\n",
        "<span class=\"courier\">insert( index, element )</span>\n",
        "\n",
        "給定 **索引值 index** 以及 **想插入的元素 element** 作為參數，就可以從中間插入新資料！\n",
        "\n",
        "####  **補充**\n",
        "其餘的資料將會往後順延一格\n",
        "\n",
        "\n",
        "\n",
        "####  **試試看**\n",
        "\n",
        "在每兩次段考之間，還會有一次隨堂小考。  \n",
        "艾蜜莉兩次小考成績分別是：99、107。  \n",
        "\n",
        "請依照時間順序，將小考成績插入 <span class=\"courier\">score</span> 串列中，並且將最後的 <span class=\"courier\">score</span> 結果列印出來。\n",
        "\n",
        "\n"
      ]
    },
    {
      "cell_type": "code",
      "execution_count": null,
      "metadata": {
        "id": "hjwpve_isIvB"
      },
      "outputs": [],
      "source": [
        "# 試試看"
      ]
    },
    {
      "cell_type": "markdown",
      "metadata": {
        "id": "c_6dEfHYsIvB"
      },
      "source": [
        "\n",
        "### 串列 List - 移除資料\n",
        "\n",
        "給定 **索引值** 移除資料：\n",
        "\n",
        "<span class=\"courier\">pop( index )</span>\n",
        "\n",
        "給定 **索引值 index** 作為參數，該位置的資料會被刪除\n",
        "\n",
        "####  **補充**  \n",
        "其餘的資料將會往前順延一格   \n",
        "若未給定參數，預設刪除最後一格的元素  \n",
        "\n",
        "\n",
        "\n",
        "#### **試試看**\n",
        "\n",
        "<span class=\"courier\">pop()</span> 其實會回傳資料！\n",
        "\n",
        "試試看將 <span class=\"courier\">pop( index )</span> 放在等號後面，有什麼東西被回傳了？\n",
        "\n"
      ]
    },
    {
      "cell_type": "code",
      "execution_count": null,
      "metadata": {
        "id": "6RPM9SOtsIvB"
      },
      "outputs": [],
      "source": [
        "# 試試看"
      ]
    },
    {
      "cell_type": "markdown",
      "metadata": {
        "id": "Ipyea8WlsIvB"
      },
      "source": [
        "\n",
        "### 串列 List - 移除資料\n",
        "\n",
        "給定 **想移除的內容**：\n",
        "<span class=\"courier\">remove( element )</span>\n",
        "\n",
        "給定 **元素 element** 作為參數，第一個出現的該元素會被刪除  \n",
        "\n",
        "####  **補充**\n",
        "其餘的資料將會往前順延一格\n",
        "\n",
        "\n",
        "\n",
        "### 串列 List - 複製資料\n",
        "\n",
        "\n",
        "##### 1. Shallow Copy\n",
        "  我們做 <span class=\"courier\">B = A</span> ，看似將串列 A 複製了一份給 B ，但是實際上，真的如此嗎？\n",
        "\n",
        "\n",
        "\n",
        "####  **試試看**\n",
        "將 <span class=\"courier\">my_list</span> 按照上頁的方法複製一份給 <span class=\"courier\">copy_list</span>。  \n",
        "\n",
        "若我們將 <span class=\"courier\">my_list[0]</span> 的內容移除，試試看將<span class=\"courier\">copy_list</span> 列印出來，觀察看看發生什麼問題了？\n"
      ]
    },
    {
      "cell_type": "code",
      "execution_count": null,
      "metadata": {
        "id": "o7z2c_1ssIvB"
      },
      "outputs": [],
      "source": [
        "# 試試看"
      ]
    },
    {
      "cell_type": "markdown",
      "metadata": {
        "id": "19n14pE9sIvC"
      },
      "source": [
        "\n",
        "我們做 <span class=\"courier\">B = A</span> ，看似將串列 A 複製了一份給 B ，但是實際上，**並不是如此**。    \n",
        "\n",
        "*A 與 B 此時共用著同一個串列，我們將兩者 **引用** 到同一個地方。因此，改變其中一個串列，會影響到另外一個串列。*\n",
        "\n",
        "\n",
        "##### 2. Deep Copy  \n",
        "  <span class=\"courier\">B = A[ : ]</span>，將串列 A 中的每一個元素，都依序複製到一個新的串列 B 中。\n",
        "\n",
        "\n",
        "\n",
        "\n",
        "### 串列 List - 還有一些功能值得你探索...\n",
        "\n",
        "1. 排列 <span class=\"courier\">list.sort(reverse=True/False)</span>  \n",
        "我們能夠使用 **sort()** 來排序，其中 **參數** 預設為 <span class=\"courier\">False</span>，會將串列重新由小到大排序；若我們將參數設定為 <span class=\"courier\">True</span>，則會由大排到小。\n",
        "\n",
        "\n",
        "2. 長度 <span class=\"courier\">len( list )</span>   \n",
        "我們能夠藉此方便取得 **串列的長度** ，對於後續迴圈的操作十分重要！\n",
        "\n",
        "3. 次數 <span class=\"courier\">list.count( element )</span>  \n",
        "在參數中放入 **元素element** ，將會回傳該元素在串列中的 **出現次數**\n",
        "\n",
        "\n"
      ]
    },
    {
      "cell_type": "markdown",
      "metadata": {
        "id": "xM-BtsncsIvC"
      },
      "source": [
        "\n",
        "####  **小試身手**\n",
        "\n",
        "艾蜜莉是一名剛進大學的新生，她希望能夠用 Python 幫助她管理生活和學習計畫。請幫助她解決以下問題...\n",
        "\n",
        "**題目 1: 建立課程表**  \n",
        "\n",
        "  艾蜜莉需要建立她的每週課程表，包括她加簽的所有課程名稱。\n",
        "\n",
        "  請建立一個名為 <span class=\"courier\">courses</span> 的串列，包含以下課程：Calculus, English, Python Programming, Economics, Accounting, Management，然後將她的課程表列印出來。\n",
        "\n",
        "\n",
        "**題目 2: 插入新課程**\n",
        "\n",
        "  艾蜜莉的朋友推薦她修一門甜涼通識，課名叫做「普通心理學」，她想將它插入課程表的「第二個位置」。\n",
        "  請使用 insert 函數，將 \"Psychology\" 插入到 <span class=\"courier\">courses</span> 的第二個位置，並且列印修改後的課程表。\n",
        "\n",
        "**題目 3: 移除課程**\n",
        "\n",
        "  由於課程時間衝堂了，艾蜜莉決定退掉「會計學」，請幫助她將其從課程表中移除，並且列印更新後的課程表。\n",
        "\n",
        "**題目 4: 課程數量統計**\n",
        "\n",
        "  艾蜜莉想知道她現在的課程總數是多少，請列印出目前 <span class=\"courier\">courses</span> 中的元素數量。\n",
        "\n",
        "\n",
        "**題目 5: 排序課程**\n",
        "\n",
        "  艾蜜莉希望改變課程表的順序，改成按照字母順序排列，方便查找。請使用 <span class=\"courier\">sort</span> 函數，將課程表排序，並列印結果。\n",
        "\n",
        "**綜合應用**\n",
        "\n",
        "艾蜜莉的課表最終有以下課程：Calculus, English, Python Programming, Economics, Psychology, Management。她希望進行以下操作：\n",
        "\t1.\t將課表改成依照字母順序的相反排列。\n",
        "\t2.\t計算課程表中包含 \"English\" 的次數。\n",
        "\t3.\t最後，列印出課程表以及出現 \"English\" 的次數。\n",
        "\n"
      ]
    },
    {
      "cell_type": "code",
      "execution_count": null,
      "metadata": {
        "id": "xoBNYxgEsIvC"
      },
      "outputs": [],
      "source": [
        "# 小試身手"
      ]
    },
    {
      "cell_type": "markdown",
      "metadata": {
        "id": "3_lAjfMFsIvC"
      },
      "source": [
        "\n",
        "---\n",
        "\n"
      ]
    },
    {
      "cell_type": "markdown",
      "metadata": {
        "id": "3aVy48DisIvC"
      },
      "source": [
        "\n",
        "\n",
        "# **迴圈 Loop**\n",
        "\n",
        "\n",
        "\n",
        "### 迴圈 - 動機\n",
        "\n",
        "有時，我們希望機器幫我們處理 **重複的事情**，於是 **While 迴圈** 誕生了。\n",
        "\n",
        "我們使用一個 **條件判斷式（condition）**，只要符合就會不斷做迴圈內的事情。直到以下其中一件事情發生，我們跳出迴圈，繼續往後續程式執行。\n",
        "\n",
        "1. 條件判斷式 不成立了\n",
        "2. 遇到 <span class=\"courier\">break</span>\n",
        "\n",
        "\n",
        "####  **試試看**\n",
        "如果想要使用 <span class=\"courier\">break</span>，應該要怎麼做呢？\n",
        "\n",
        "\n",
        "\n",
        "### 迴圈 - 計數器\n",
        "\n",
        "例如，我們希望做一個計數器，確保迴圈能跑 10 次，並且依序印出 0 ~ 9。\n"
      ]
    },
    {
      "cell_type": "code",
      "execution_count": null,
      "metadata": {
        "id": "2uQ4KUDqsIvC",
        "outputId": "a6ca2f84-c3b8-4651-b172-da3a84353b82"
      },
      "outputs": [
        {
          "name": "stdout",
          "output_type": "stream",
          "text": [
            "0\n",
            "1\n",
            "2\n",
            "3\n",
            "4\n",
            "5\n",
            "6\n",
            "7\n",
            "8\n",
            "9\n",
            "finish!\n"
          ]
        }
      ],
      "source": [
        "i = 0\n",
        "\n",
        "while i < 10:\n",
        "\tprint( i )\n",
        "\ti += 1\n",
        "\n",
        "print( \"finish!\")"
      ]
    },
    {
      "cell_type": "markdown",
      "metadata": {
        "id": "vEwTG3b9sIvC"
      },
      "source": [
        "\n",
        "\n",
        "\n",
        "####  **試試看**\n",
        "如果想要改成列印從 10 ~ 1，應該怎麼做？\n",
        "\n",
        "\n",
        "\n"
      ]
    },
    {
      "cell_type": "code",
      "execution_count": null,
      "metadata": {
        "id": "T0gvFVGosIvC"
      },
      "outputs": [],
      "source": [
        "# 試試看"
      ]
    },
    {
      "cell_type": "markdown",
      "metadata": {
        "id": "0eY_cOEgsIvC"
      },
      "source": [
        "\n",
        "### 迴圈 - 與串列一起使用！\n",
        "\n",
        "例如，我們想要取出串列中**第 5 個到第 9 個內容**，並且依序印出。\n",
        "\n"
      ]
    },
    {
      "cell_type": "code",
      "execution_count": null,
      "metadata": {
        "id": "dOxgq2lksIvC",
        "outputId": "b512b9c9-0919-443b-a1fb-aa888a84b9a8"
      },
      "outputs": [
        {
          "name": "stdout",
          "output_type": "stream",
          "text": [
            "5\n",
            "6\n",
            "7\n",
            "8\n",
            "9\n",
            "finish!\n"
          ]
        }
      ],
      "source": [
        "new_list = [ 1, 2, 3, 4, 5, 6, 7, 8, 9, 10]\n",
        "i = 4\n",
        "while i < 9:\n",
        "\tprint( new_list[ i ] )\n",
        "\ti += 1\n",
        "print( \"finish!\" )\n"
      ]
    },
    {
      "cell_type": "markdown",
      "metadata": {
        "id": "5eab0I0osIvC"
      },
      "source": [
        "\n",
        "####  **試試看**\n",
        "\n",
        "如果我們想要從串列的第 5 個開始印到最尾巴，應該怎麼做？\n",
        "（提示: 可以善用 <span class=\"courier\">len()</span> 來取得串列的長度！）\n"
      ]
    },
    {
      "cell_type": "code",
      "execution_count": null,
      "metadata": {
        "id": "9GTKEamIsIvC"
      },
      "outputs": [],
      "source": [
        "# 試試看"
      ]
    },
    {
      "cell_type": "markdown",
      "metadata": {
        "id": "n9Lm7Gy1sIvC"
      },
      "source": [
        "\n",
        "\n",
        "\n",
        "### 迴圈 - 更直覺的方法：For 迴圈\n",
        "\n",
        "有點不方便？\n",
        "\n",
        "於是我們發明了 **For 迴圈** ，又稱為 **計數迴圈** 。\n",
        "搭配 <span class=\"courier\">range()</span> ，我們能更方便控制函數執行特定的圈數，並且省去了處理 <span class=\"courier\">i</span> 的困擾！\n",
        "\n"
      ]
    },
    {
      "cell_type": "code",
      "execution_count": null,
      "metadata": {
        "id": "AQeCNo-qsIvD"
      },
      "outputs": [],
      "source": [
        "for i in range(5):\n",
        "\tprint(i)\n",
        "\n",
        "# 將會依序印出 0, 1, 2, 3, 4"
      ]
    },
    {
      "cell_type": "markdown",
      "metadata": {
        "id": "tEKLpLLIsIvD"
      },
      "source": [
        "\n",
        "####  **試試看**\n",
        "\n",
        "使用 For 迴圈 ，將串列的第一個到第五個元素印出。\n",
        "\n"
      ]
    },
    {
      "cell_type": "code",
      "execution_count": null,
      "metadata": {
        "id": "C6ZteEhusIvD"
      },
      "outputs": [],
      "source": [
        "# 試試看"
      ]
    },
    {
      "cell_type": "markdown",
      "metadata": {
        "id": "euJmwHQLsIvD"
      },
      "source": [
        "\n",
        "\n",
        "\n",
        "\n",
        "### 迴圈 - Range專論\n",
        "\n",
        "\n",
        "比較以下的程式，執行效果是一樣的...  \n",
        "\n",
        "\n"
      ]
    },
    {
      "cell_type": "code",
      "execution_count": null,
      "metadata": {
        "id": "a7aYLA_IsIvD"
      },
      "outputs": [],
      "source": [
        "for i in range(5):\n",
        "\tprint(i)\n",
        "\n",
        "#  將會依序印出 0, 1, 2, 3, 4"
      ]
    },
    {
      "cell_type": "code",
      "execution_count": null,
      "metadata": {
        "id": "grTTZjgusIvD"
      },
      "outputs": [],
      "source": [
        "for i in [0, 1, 2, 3, 4 ] :\n",
        "\tprint(i)\n",
        "\n",
        "#  將會依序印出 0, 1, 2, 3, 4"
      ]
    },
    {
      "cell_type": "markdown",
      "metadata": {
        "id": "UBIgyVoPsIvD"
      },
      "source": [
        "\n",
        "\n",
        "\n",
        "#### **想法**\n",
        "1)  <span class=\"courier\">range()</span> 非常像是一個串列，裡面是由許多 **由小到大的數字元素** 所組成。\n",
        "2)  For 迴圈 會將後方串列中的元素逐一執行，並且分別將每個元素賦值給 <span class=\"courier\">i</span> 。\n",
        "\n",
        "\n",
        "\n",
        "\n",
        "### 迴圈 - Range專論\n",
        "\n",
        "<span class=\"courier\">Range()</span> 還能做更多事情！\n",
        "1. <span class=\"courier\">range(5)</span> 可以理解為...  從 0 ~ 4 的串列  \n",
        "2. <span class=\"courier\">range(3, 10)</span> 可以理解為...  從 3 ~ 9 的串列 （含首不含尾）  \n",
        "3. <span class=\"courier\">range(2, 10, 2)</span> 可以理解為...  2, 4, 6, 8 （公差為 2）\n",
        "\n",
        "\n",
        "\n",
        "#### **想法**\n",
        "\n",
        "與 **串列** 的表達方法很相近！\n",
        "\n",
        "####  **試試看**\n",
        "\n",
        "使用 For 迴圈 與 <span class=\"courier\">range()</span> ，將 <span class=\"courier\">my_list</span> 中的第 3 個到第 6 個元素印出來。\n",
        "\n",
        "\n"
      ]
    },
    {
      "cell_type": "code",
      "execution_count": null,
      "metadata": {
        "id": "aWk50qQUsIvD"
      },
      "outputs": [],
      "source": [
        "# 試試看"
      ]
    },
    {
      "cell_type": "markdown",
      "metadata": {
        "id": "vR1LiubCsIvD"
      },
      "source": [
        "\n",
        "### 迴圈 - Continue\n",
        "\n",
        "執行以下兩種程式，你發現什麼不同？\n",
        "\n"
      ]
    },
    {
      "cell_type": "code",
      "execution_count": null,
      "metadata": {
        "id": "OneTy8JjsIvD"
      },
      "outputs": [],
      "source": [
        "for i in range(10):\n",
        "\tif i == 5:\n",
        "\t\tcontinue\n",
        "\telse:\n",
        "\t\tprint(i)"
      ]
    },
    {
      "cell_type": "code",
      "execution_count": null,
      "metadata": {
        "id": "eyiY0-_0sIvD"
      },
      "outputs": [],
      "source": [
        "for i in range(10):\n",
        "\tif i == 5:\n",
        "\t\tbreak\n",
        "\telse:\n",
        "\t\tprint(i)"
      ]
    },
    {
      "cell_type": "markdown",
      "metadata": {
        "id": "ksJRJcs7sIvD"
      },
      "source": [
        "\n",
        "#### **想法**\n",
        "\n",
        "<span class=\"courier\">Continue</span> 會跳回 **迴圈的開頭**，而 <span class=\"courier\">Break</span> 會 **跳出迴圈**\n",
        "\n",
        "\n",
        "\n",
        "\n",
        "\n",
        "### 迴圈 - 巢狀迴圈\n",
        "\n",
        "當我們想要做的工作需要不只一層迴圈時，我們能夠 **將迴圈包含在更大的迴圈** 中，我們稱之為**巢狀迴圈**。\n",
        "\n",
        "以下為一個雙重迴圈的範例：\n",
        "\n"
      ]
    },
    {
      "cell_type": "code",
      "execution_count": null,
      "metadata": {
        "id": "ywY46wIFsIvD",
        "outputId": "78a41bc9-23f4-4d96-ee57-cccc764866b4"
      },
      "outputs": [
        {
          "name": "stdout",
          "output_type": "stream",
          "text": [
            "i= 0 j= 0\n",
            "i= 0 j= 1\n",
            "i= 0 j= 2\n",
            "i= 0 j= 3\n",
            "i= 0 j= 4\n",
            "i= 0 j= 5\n",
            "i= 0 j= 6\n",
            "i= 0 j= 7\n",
            "i= 0 j= 8\n",
            "i= 0 j= 9\n",
            "i= 1 j= 0\n",
            "i= 1 j= 1\n",
            "i= 1 j= 2\n",
            "i= 1 j= 3\n",
            "i= 1 j= 4\n",
            "i= 1 j= 5\n",
            "i= 1 j= 6\n",
            "i= 1 j= 7\n",
            "i= 1 j= 8\n",
            "i= 1 j= 9\n",
            "i= 2 j= 0\n",
            "i= 2 j= 1\n",
            "i= 2 j= 2\n",
            "i= 2 j= 3\n",
            "i= 2 j= 4\n",
            "i= 2 j= 5\n",
            "i= 2 j= 6\n",
            "i= 2 j= 7\n",
            "i= 2 j= 8\n",
            "i= 2 j= 9\n",
            "i= 3 j= 0\n",
            "i= 3 j= 1\n",
            "i= 3 j= 2\n",
            "i= 3 j= 3\n",
            "i= 3 j= 4\n",
            "i= 3 j= 5\n",
            "i= 3 j= 6\n",
            "i= 3 j= 7\n",
            "i= 3 j= 8\n",
            "i= 3 j= 9\n",
            "i= 4 j= 0\n",
            "i= 4 j= 1\n",
            "i= 4 j= 2\n",
            "i= 4 j= 3\n",
            "i= 4 j= 4\n",
            "i= 4 j= 5\n",
            "i= 4 j= 6\n",
            "i= 4 j= 7\n",
            "i= 4 j= 8\n",
            "i= 4 j= 9\n",
            "i= 5 j= 0\n",
            "i= 5 j= 1\n",
            "i= 5 j= 2\n",
            "i= 5 j= 3\n",
            "i= 5 j= 4\n",
            "i= 5 j= 5\n",
            "i= 5 j= 6\n",
            "i= 5 j= 7\n",
            "i= 5 j= 8\n",
            "i= 5 j= 9\n",
            "i= 6 j= 0\n",
            "i= 6 j= 1\n",
            "i= 6 j= 2\n",
            "i= 6 j= 3\n",
            "i= 6 j= 4\n",
            "i= 6 j= 5\n",
            "i= 6 j= 6\n",
            "i= 6 j= 7\n",
            "i= 6 j= 8\n",
            "i= 6 j= 9\n",
            "i= 7 j= 0\n",
            "i= 7 j= 1\n",
            "i= 7 j= 2\n",
            "i= 7 j= 3\n",
            "i= 7 j= 4\n",
            "i= 7 j= 5\n",
            "i= 7 j= 6\n",
            "i= 7 j= 7\n",
            "i= 7 j= 8\n",
            "i= 7 j= 9\n",
            "i= 8 j= 0\n",
            "i= 8 j= 1\n",
            "i= 8 j= 2\n",
            "i= 8 j= 3\n",
            "i= 8 j= 4\n",
            "i= 8 j= 5\n",
            "i= 8 j= 6\n",
            "i= 8 j= 7\n",
            "i= 8 j= 8\n",
            "i= 8 j= 9\n",
            "i= 9 j= 0\n",
            "i= 9 j= 1\n",
            "i= 9 j= 2\n",
            "i= 9 j= 3\n",
            "i= 9 j= 4\n",
            "i= 9 j= 5\n",
            "i= 9 j= 6\n",
            "i= 9 j= 7\n",
            "i= 9 j= 8\n",
            "i= 9 j= 9\n"
          ]
        }
      ],
      "source": [
        "for i in range(10):\n",
        "\tfor j in range(10):\n",
        "\t\tprint(\"i=\", i, \"j=\", j )"
      ]
    },
    {
      "cell_type": "markdown",
      "metadata": {
        "id": "AEO1FrtPsIvE"
      },
      "source": [
        "\n",
        "\n",
        "\n",
        "\n",
        "#### **想法**\n",
        "在 Python 中，縮排是重點！\n",
        "縮排，是讓電腦知道迴圈範圍的好方法。\n",
        "\n",
        "（點擊鍵盤上的 **tab 鍵**，可以自動縮排喔！）\n",
        "\n",
        "####  **試試看**  \n",
        "請修改前一頁的程式碼，實做一個 **九九乘法表**。\n",
        "\n"
      ]
    },
    {
      "cell_type": "code",
      "execution_count": null,
      "metadata": {
        "id": "aTT8YSFGsIvE"
      },
      "outputs": [],
      "source": [
        "# 試試看"
      ]
    },
    {
      "cell_type": "markdown",
      "metadata": {
        "id": "8oFRERatsIvE"
      },
      "source": [
        "---"
      ]
    },
    {
      "cell_type": "markdown",
      "metadata": {
        "id": "wcVTfRQEsIvE"
      },
      "source": [
        "\n",
        "# **字串 String**\n",
        "\n",
        "### 什麼是字串？\n",
        "\n",
        "在電腦程式中，**字元（character）** 是一種數據類型，通常用來表示單個文字（如字母、數字、符號）。\n",
        "\n",
        "我們要表達 **單字** 或 **句子** 時，就需要使用 **字串（string）** 來將多個字元組合起來。\n",
        "\n",
        "例如：<span class=\"courier\">\"Word\"</span> 或是 <span class=\"courier\">\"Welcome to IM CAMP !\"</span> 都是字串。\n",
        "\n",
        "\n",
        "\n",
        "#### **想法**\n",
        "\n",
        "在 Python 中，我們使用引號（\"\"）來表達字串。\n",
        "單引號 (') 與 雙引號 (\") 在 Python 中都可以表達字串，只要成對使用即可！\n",
        "\n",
        "\n",
        "####  **試試看**  \n",
        "\n",
        "宣告一個新變數 <span class=\"courier\">my_string</span>，並且將 <span class=\"courier\">\"My name is (你的名字)\"</span> 字串儲存在裡面。\n",
        "\n"
      ]
    },
    {
      "cell_type": "code",
      "execution_count": null,
      "metadata": {
        "id": "okcJACaSsIvE"
      },
      "outputs": [],
      "source": [
        "# 試試看"
      ]
    },
    {
      "cell_type": "markdown",
      "metadata": {
        "id": "FXielfshsIvE"
      },
      "source": [
        "\n",
        "我們能夠使用 中括號 [] ，來將字串中的某個字元取出來。\n",
        "\n",
        "例如：\n"
      ]
    },
    {
      "cell_type": "code",
      "execution_count": null,
      "metadata": {
        "id": "sJwU_P7XsIvE",
        "outputId": "af45cd57-4dfb-49d6-bf8b-31961c45af06"
      },
      "outputs": [
        {
          "name": "stdout",
          "output_type": "stream",
          "text": [
            "IM Camp\n",
            "I\n",
            "a\n"
          ]
        }
      ],
      "source": [
        "new_string = \"IM Camp\"\n",
        "\n",
        "print(new_string)\n",
        "print(new_string[0])\n",
        "print(new_string[4])"
      ]
    },
    {
      "cell_type": "markdown",
      "metadata": {
        "id": "VWUK56z5sIvE"
      },
      "source": [
        "\n",
        "#### **想法**  \n",
        "\n",
        "此時，字串就像是一個很多字元的串列。\n",
        "記得 **索引值** 是從 0 開始喔！\n",
        "\n",
        "\n",
        "\n",
        "####  **試試看**  \n",
        "\n",
        "我們能否比照 **串列** ，使用 [ : ] 來截取範圍呢？\n",
        "試著將 <span class=\"courier\">my_string</span> 中，(你的名字) 列印出來。\n",
        "\n",
        "\n"
      ]
    },
    {
      "cell_type": "code",
      "execution_count": null,
      "metadata": {
        "id": "fdln0rxJsIvE"
      },
      "outputs": [],
      "source": [
        "# 試試看"
      ]
    },
    {
      "cell_type": "markdown",
      "metadata": {
        "id": "Bfy3FO22sIvE"
      },
      "source": [
        "\n",
        "### 字串 String - 換行字元\n",
        "\n",
        "當我們使用 <span class=\"courier\">print</span> 函數後，預設會換行。\n",
        "\n",
        "如果我們想要手動換行，可以使用 **換行字元 \\n** 。\n",
        "\n"
      ]
    },
    {
      "cell_type": "code",
      "execution_count": null,
      "metadata": {
        "id": "wLOqBmzzsIvE",
        "outputId": "4890ed43-b65c-470f-91b9-45cf4d5d334d"
      },
      "outputs": [
        {
          "name": "stdout",
          "output_type": "stream",
          "text": [
            "IMcamp 2025\n",
            "IMcamp\n",
            "2025\n"
          ]
        }
      ],
      "source": [
        "print(\"IMcamp 2025\")\n",
        "print(\"IMcamp\\n2025\")"
      ]
    },
    {
      "cell_type": "markdown",
      "metadata": {
        "id": "AcoxWe5bsIvE"
      },
      "source": [
        "\n",
        "\n",
        "\n",
        "####  **試試看**\n",
        "\n",
        "將 \"Welcome to IM CAMP !\" 使用一個 <span class=\"courier\">print</span> 函數印出，且每個字都要獨立一行。\n",
        "\n",
        "\n"
      ]
    },
    {
      "cell_type": "code",
      "execution_count": null,
      "metadata": {
        "id": "Lej0fpIVsIvF"
      },
      "outputs": [],
      "source": [
        "# 試試看"
      ]
    },
    {
      "cell_type": "markdown",
      "metadata": {
        "id": "4O66CixvsIvF"
      },
      "source": [
        "\n",
        "### 字串 String - 串聯\n",
        "\n",
        "我們能夠使用 **+（加號）**， ***（乘號）**，將字串進行串聯。\n",
        "\n",
        "1. +（加號）— 將左右的兩個字串連接起來\n",
        "2. *（乘號）— 將原本的字串重複數遍\n"
      ]
    },
    {
      "cell_type": "code",
      "execution_count": null,
      "metadata": {
        "id": "l2pT5g3GsIvF",
        "outputId": "9cc3371b-a6e7-4d65-9adb-1a953a894718"
      },
      "outputs": [
        {
          "name": "stdout",
          "output_type": "stream",
          "text": [
            "IMCamp2025\n",
            "IM Camp萬歲萬歲萬歲\n"
          ]
        }
      ],
      "source": [
        "print(\"IM\" + \"Camp\" + \"2025\")\n",
        "print(\"IM Camp\" + \"萬歲\" * 3)"
      ]
    },
    {
      "cell_type": "markdown",
      "metadata": {
        "id": "3xT9teDvsIvF"
      },
      "source": [
        "\n",
        "\n",
        "\n",
        "\n",
        "### 字串 String - 比較\n",
        "\n",
        "我們能夠使用 **==（等於）**， **!=（不等於）**，檢查字串是否相同。\n"
      ]
    },
    {
      "cell_type": "code",
      "execution_count": null,
      "metadata": {
        "id": "kG-C3lbLsIvF",
        "outputId": "c8b94e2d-63fe-4656-d1b8-110d3c2d45d8"
      },
      "outputs": [
        {
          "name": "stdout",
          "output_type": "stream",
          "text": [
            "False\n",
            "True\n"
          ]
        }
      ],
      "source": [
        "string_1 = \"IM\"\n",
        "string_2 = \"Camp\"\n",
        "\n",
        "print(string_1 == string_2)   # False\n",
        "print(string_1 != string_2)   # True"
      ]
    },
    {
      "cell_type": "markdown",
      "metadata": {
        "id": "tI66KKmSsIvF"
      },
      "source": [
        "\n",
        "\n",
        "\n",
        "### 字串 String - 比較\n",
        "\n",
        "另外，我們能夠使用 **>（大於）、 <（小於）**，比較字串的 **字典序**。\n",
        "\n"
      ]
    },
    {
      "cell_type": "code",
      "execution_count": null,
      "metadata": {
        "id": "0cXfjpGKsIvF",
        "outputId": "e9b803a8-3b98-4be4-ef8b-dcb6fb91083e"
      },
      "outputs": [
        {
          "name": "stdout",
          "output_type": "stream",
          "text": [
            "True\n"
          ]
        }
      ],
      "source": [
        "print(string_1 > string_2)     # True"
      ]
    },
    {
      "cell_type": "markdown",
      "metadata": {
        "id": "8ggJKhuqsIvF"
      },
      "source": [
        "\n",
        "\n",
        "#### **想法**\n",
        "\n",
        "**字典序**：是從第一個字元開始比較，若相同則比下一個字，直到分出大小或一方結束為止。\n",
        "\n",
        "\n",
        "\n",
        "### 字串 String - 切換大小寫\n",
        "\n",
        "我們能夠使用 **upper() 、 lower()**，將字串的所有字元切換大小寫。\n",
        "\n"
      ]
    },
    {
      "cell_type": "code",
      "execution_count": null,
      "metadata": {
        "id": "Mt1nyhXdsIvF",
        "outputId": "177bcdea-bfda-4a11-a67b-b45a3cd7f8fb"
      },
      "outputs": [
        {
          "name": "stdout",
          "output_type": "stream",
          "text": [
            "im\n",
            "CAMP\n"
          ]
        }
      ],
      "source": [
        "string_1 = \"IM\"\n",
        "string_2 = \"Camp\"\n",
        "\n",
        "print(string_1.lower())\n",
        "print(string_2.upper())"
      ]
    },
    {
      "cell_type": "markdown",
      "metadata": {
        "id": "Avfe-iBhsIvF"
      },
      "source": [
        "\n",
        "\n",
        "### 字串 String - 檢查字串性質\n",
        "\n",
        "\n",
        "我們能夠使用 **isupper() 、 islower()**，檢查字串是否皆為大 / 小寫。\n",
        "\n"
      ]
    },
    {
      "cell_type": "code",
      "execution_count": null,
      "metadata": {
        "id": "qjZlwZclsIvF",
        "outputId": "dda54662-421d-4d15-eeb0-870b0a7efa68"
      },
      "outputs": [
        {
          "name": "stdout",
          "output_type": "stream",
          "text": [
            "False\n",
            "False\n"
          ]
        }
      ],
      "source": [
        "string_1 = \"IM\"\n",
        "string_2 = \"Camp\"\n",
        "\n",
        "print(string_1.islower())   # False\n",
        "print(string_2.isupper())   # False"
      ]
    },
    {
      "cell_type": "markdown",
      "metadata": {
        "id": "c56BcCg_sIvF"
      },
      "source": [
        "\n",
        "\n",
        "\n",
        "\n",
        "### 字串 String - 檢查字串性質\n",
        "\n",
        "我們能夠使用 **isalpha()**，檢查字串是否皆為 英文字母 。\n",
        "我們能夠使用 **isnumeric()**，檢查字串是否皆為 數字 。\n",
        "我們能夠使用 **isalnum()**，檢查字串是否皆為 英文字母或數字 。\n",
        "\n"
      ]
    },
    {
      "cell_type": "code",
      "execution_count": null,
      "metadata": {
        "id": "52LZsk9vsIvF",
        "outputId": "8c85c295-8303-4176-a039-845452e26333"
      },
      "outputs": [
        {
          "name": "stdout",
          "output_type": "stream",
          "text": [
            "False\n",
            "False\n",
            "True\n"
          ]
        }
      ],
      "source": [
        "string_3 = \"IMcamp2024\"\n",
        "\n",
        "print(string_3.isalpha())    # False\n",
        "print(string_3.isnumeric())  # False\n",
        "print(string_3.isalnum())    # True"
      ]
    },
    {
      "cell_type": "markdown",
      "metadata": {
        "id": "wMayJ-WFsIvF"
      },
      "source": [
        "\n",
        "\n",
        "\n",
        "\n",
        "####  **補充**  \n",
        "\n",
        "在這三個判斷方法中，如果提供 **空字串** 皆會回傳 False。\n",
        "\n",
        "\n",
        "\n",
        "\n",
        "####  **試試看**  \n",
        "\n",
        "將字串設定為中文字元 “一二三” ， <span class=\"courier\">isnumeric()</span> 會判斷他是數字嗎？\n",
        "如果改成 “IMcamp 2024”，多出的空格是否會改變  <span class=\"courier\">isalnum()</span> 的判斷？\n"
      ]
    },
    {
      "cell_type": "code",
      "execution_count": null,
      "metadata": {
        "id": "PepXHDStsIvG"
      },
      "outputs": [],
      "source": [
        "# 試試看"
      ]
    },
    {
      "cell_type": "markdown",
      "metadata": {
        "id": "YxB7_4gVsIvG"
      },
      "source": [
        "\n",
        "\n",
        "\n",
        "### 字串 String - 檢查子字串\n",
        "\n",
        "我們能夠使用 **in、not in**，檢查字串擁有某個 **子字串** 。\n",
        "\n"
      ]
    },
    {
      "cell_type": "markdown",
      "metadata": {
        "id": "ioqwCpSPsIvG"
      },
      "source": [
        "```python\n",
        "string_1 = “IM”\n",
        "string_2 = “Camp”\n",
        "string_3 = “IMcamp2024”\n",
        "\n",
        "print(string_1 in string_3)      # True\n",
        "print(string_1 not in string_3)  # False\n",
        "print(string_2 in string_3)      # False\n"
      ]
    },
    {
      "cell_type": "markdown",
      "metadata": {
        "id": "-0r6qDRPsIvG"
      },
      "source": [
        "\n",
        "\n",
        "\n",
        "\n",
        "#### **想法**\n",
        "\n",
        "在一個字串中任意取一段字元，稱為該字串的**子字串**。\n",
        "\n",
        "\n",
        "\n",
        "### 字串 String - 分割字串\n",
        "\n",
        "我們能夠使用 **split()**，將字串以 **空格** 分割，產生出一個串列。\n",
        "\n"
      ]
    },
    {
      "cell_type": "code",
      "execution_count": null,
      "metadata": {
        "id": "9XdfEff1sIvG"
      },
      "outputs": [],
      "source": [
        "string_4 = \"IM Camp is so great!\"\n",
        "print(string_4.split())"
      ]
    },
    {
      "cell_type": "markdown",
      "metadata": {
        "id": "Jw26UUvBsIvG"
      },
      "source": [
        "\n",
        "\n",
        "另外，我們也能給定 **分割符** ，依據不同東西分割串列。\n",
        "\n"
      ]
    },
    {
      "cell_type": "code",
      "execution_count": null,
      "metadata": {
        "id": "QD5pIGwOsIvG",
        "outputId": "3455bef9-d019-4b2f-ab0b-cf68b95ad9c7"
      },
      "outputs": [
        {
          "name": "stdout",
          "output_type": "stream",
          "text": [
            "['myemail', 'gmail.com']\n"
          ]
        }
      ],
      "source": [
        "string_5 = \"myemail@gmail.com\"\n",
        "print(string_5.split(\"@\"))"
      ]
    },
    {
      "cell_type": "markdown",
      "metadata": {
        "id": "AGzTFIzJsIvG"
      },
      "source": [
        "### 字串 String - 去除首尾\n",
        "\n",
        "我們能夠使用 **strip()**，將字串以 **空格** 去頭去尾，產生出一個新字串。\n"
      ]
    },
    {
      "cell_type": "code",
      "execution_count": null,
      "metadata": {
        "id": "i1LL8MIpsIvG",
        "outputId": "a860c507-371e-4a5f-afc9-f9aaf2544d24"
      },
      "outputs": [
        {
          "name": "stdout",
          "output_type": "stream",
          "text": [
            "IM Camp is so great!\n"
          ]
        }
      ],
      "source": [
        "string_4 = \"    IM Camp is so great!    \"\n",
        "print(string_4.strip())"
      ]
    },
    {
      "cell_type": "markdown",
      "metadata": {
        "id": "ke97ZLhIsIvG"
      },
      "source": [
        "\n",
        "\n",
        "另外，我們也能給定 **指定字符** ，依據不同東西切割頭尾。\n",
        "\n"
      ]
    },
    {
      "cell_type": "code",
      "execution_count": null,
      "metadata": {
        "id": "8eGg_utesIvG",
        "outputId": "a0ccaef1-4be1-4b42-be6b-29687dc8a114"
      },
      "outputs": [
        {
          "name": "stdout",
          "output_type": "stream",
          "text": [
            "myemail@gmail.com\n"
          ]
        }
      ],
      "source": [
        "string_5 = \"\\n\\n\\nmyemail@gmail.com\\n\\n\"\n",
        "print(string_5.strip(\"\\n\"))"
      ]
    },
    {
      "cell_type": "markdown",
      "metadata": {
        "id": "js3M_2HEsIvG"
      },
      "source": [
        "\n",
        "#### **想法**  \n",
        "\n",
        "<span class=\"courier\">strip()</span> 所回傳的是一個新字串，而 <span class=\"courier\">split()</span> 回傳的是一個串列喔！\n",
        "\n",
        "####  **試試看**  \n",
        "\n",
        "觀察一下， <span class=\"courier\">strip()</span> 函數會將 **不在頭尾** 的 **指定字符** 移除嗎？\n",
        "\n",
        "\n"
      ]
    },
    {
      "cell_type": "code",
      "execution_count": null,
      "metadata": {
        "id": "rzZ1cp6bsIvG"
      },
      "outputs": [],
      "source": [
        "# 試試看"
      ]
    },
    {
      "cell_type": "markdown",
      "metadata": {
        "id": "kH6Em0UdsIvG"
      },
      "source": [
        "\n",
        "### 字串 String - 還有更多功能！\n",
        "\n",
        "我們能夠使用 **find()**，給定 **子字串** 作為 **參數**，回傳「第一個子字串出現時，第一個字元的索引值」。\n",
        "\n"
      ]
    },
    {
      "cell_type": "code",
      "execution_count": null,
      "metadata": {
        "id": "Ur8HvS5xsIvG",
        "outputId": "27169f78-6591-401c-cdd0-3114cbd106c1"
      },
      "outputs": [
        {
          "name": "stdout",
          "output_type": "stream",
          "text": [
            "14\n"
          ]
        }
      ],
      "source": [
        "string_4 = \"IM Camp is so great!\"\n",
        "print(string_4.find(\"great\"))"
      ]
    },
    {
      "cell_type": "markdown",
      "metadata": {
        "id": "UUtByYUrsIvG"
      },
      "source": [
        "\n",
        "\n",
        "\n",
        "\n",
        "### 字串 String - 還有更多功能！\n",
        "\n",
        "另外，我們也能使用 **replace()** ，將 **原本的子字串** 全部換成 **給定的新內容**。\n",
        "\n"
      ]
    },
    {
      "cell_type": "code",
      "execution_count": null,
      "metadata": {
        "id": "tG1IQWyisIvG",
        "outputId": "60d9360d-20c7-45d2-a4cf-26cf158c10fb"
      },
      "outputs": [
        {
          "name": "stdout",
          "output_type": "stream",
          "text": [
            "IM Camp is so excellent!\n"
          ]
        }
      ],
      "source": [
        "string_4 = string_4.replace(\"great\", \"excellent\")\n",
        "print(string_4)\n"
      ]
    },
    {
      "cell_type": "markdown",
      "metadata": {
        "id": "0j1Ft0e0sIvH"
      },
      "source": [
        "\n",
        "\n",
        "#### **注意**\n",
        "\n",
        "如果找不到該子字串，會回傳 -1！\n",
        "\n",
        "\n"
      ]
    },
    {
      "cell_type": "markdown",
      "metadata": {
        "id": "TmenTq9csIvH"
      },
      "source": [
        "\n",
        "####  **小試身手**\n",
        "\n",
        "艾蜜莉是一名大學生，除了忙碌的學業，她還加入了一個服務性社團，負責幫助其他學生解決程式問題。她希望能用 Python 幫助她管理一下學業和社團的日常任務。以下是幾個問題，請幫助她完成目標。\n",
        "\n",
        "\n",
        "\n",
        "\n",
        "**題目 1: 任務清單建立**\n",
        "\n",
        "艾蜜莉記錄了一些待完成的任務，包括學校作業與社團活動。請使用 while 迴圈讓艾蜜莉逐一輸入她的待辦事項，直到輸入 \"done\" 字串為止。  \n",
        "請製作一個程式，能夠將這些待辦事項存入一個名為 tasks 的串列中，最後列印出待辦事項清單。  \n",
        "\n",
        "*目前，艾蜜莉目前的待辦事項如下：calculus_hw, check_meeting, python_tutor, economics_hw, accounting_hw, python_hw, algorithm_hw, practice_taekwondo*\n",
        "\n",
        "\n",
        "\n",
        "**題目 2: 任務分類**  \n",
        "\n",
        "艾蜜莉希望將她的任務分成兩大類：學校作業與社團活動。請使用 for 迴圈逐一檢查 tasks 串列中的每個任務。  \n",
        "\n",
        "如果任務中包含關鍵字 \"hw\"，則將其加入 school_tasks 串列；否則，請加入 club_tasks 串列。\n",
        "\n",
        "最後，分別列印 school_tasks 和 club_tasks。\n",
        "\n",
        "*提示：使用字串函數 in 判斷是否包含關鍵字。*\n",
        "\n",
        "\n",
        "**題目 3: 進行任務**\n",
        "\n",
        "艾蜜莉決定依次完成所有學校作業，並在完成後將其從清單中移除。請使用 while 迴圈，逐步製作以下事項：  \n",
        "- 列印 [正在完成的任務], [剩餘學校作業數量]。  \n",
        "- 使用 <span class=\"courier\">pop(0)</span> 移除該項（已完成的）任務。  \n",
        "\n",
        "最後，當任務全部完成後，列印「學校作業已完成！」。\n",
        "\n",
        "*提示：可以使用 len() 確認串列是否為空。*\n",
        "\n",
        "\n",
        "\n",
        "**題目 4: 計算社團活動所需時間**\n",
        "\n",
        "艾蜜莉需要估算她完成社團活動所需的時間，每項活動需要的時間由使用者指定。\n",
        "\n",
        "請使用 for 迴圈遍歷 club_tasks，針對每項活動，請使用者輸入所需的時間（分鐘）。在累加所有活動的時間後，列印出總時間。\n",
        "\n",
        "*提示：良好的使用者介面很重要。請記得要先印出每項社團任務的名稱，再請艾蜜莉輸入該項任務所需的時間！*"
      ]
    },
    {
      "cell_type": "code",
      "execution_count": null,
      "metadata": {
        "id": "kaHk31nFsIvH"
      },
      "outputs": [],
      "source": [
        "# 小試身手"
      ]
    }
  ],
  "metadata": {
    "kernelspec": {
      "display_name": "Python 3 (ipykernel)",
      "language": "python",
      "name": "python3"
    },
    "language_info": {
      "codemirror_mode": {
        "name": "ipython",
        "version": 3
      },
      "file_extension": ".py",
      "mimetype": "text/x-python",
      "name": "python",
      "nbconvert_exporter": "python",
      "pygments_lexer": "ipython3",
      "version": "3.11.0"
    },
    "colab": {
      "provenance": [],
      "include_colab_link": true
    }
  },
  "nbformat": 4,
  "nbformat_minor": 0
}